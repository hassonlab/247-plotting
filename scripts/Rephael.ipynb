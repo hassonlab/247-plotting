{
 "cells": [
  {
   "cell_type": "code",
   "execution_count": 9,
   "metadata": {},
   "outputs": [],
   "source": [
    "import os\n",
    "import pandas as pd\n",
    "import numpy as np\n",
    "import json\n",
    "import pickle\n",
    "import argparse\n",
    "\n",
    "import matplotlib.pyplot as plt\n",
    "import seaborn as sns\n",
    "import plotly.express as px\n",
    "from scipy.stats import ttest_1samp, ttest_ind, ttest_rel, permutation_test\n",
    "from scipy.spatial.distance import pdist, squareform\n",
    "from sklearn.decomposition import PCA\n",
    "from statsmodels.stats import multitest\n",
    "from matplotlib.backends.backend_pdf import PdfPages\n",
    "\n",
    "from tfsemb_class import tsne, save_pickle, add_speech\n",
    "from tfsplt_encoding import get_cmap_smap, aggregate_data, organize_data, get_elecbrain\n",
    "from tfsplt_utils import read_folder, load_pickle, get_con_color\n",
    "from tfsplt_brainmap import get_sigelecs, Colorbar, make_brainmap\n",
    "from tfsplt_brainmap_cat import make_brainmap_cat\n",
    "\n",
    "def fdr(pvals):\n",
    "    _, pcor, _, _ = multitest.multipletests(\n",
    "        pvals, method=\"fdr_bh\", is_sorted=False\n",
    "    )\n",
    "    return pcor"
   ]
  },
  {
   "cell_type": "markdown",
   "metadata": {},
   "source": [
    "### Load Data"
   ]
  },
  {
   "cell_type": "code",
   "execution_count": null,
   "metadata": {},
   "outputs": [],
   "source": [
    "class Args(argparse.Namespace):\n",
    "  sid = [\"777\"] # subjects\n",
    "  project = \"podcast\"\n",
    "  formats = [ # encoding folder\n",
    "    \"../data/encoding/podcast/20240208-rephael/kw-podcast-full-777-glove50-lag2k-25-all-rephael1/*/*%s.csv\",\n",
    "    \"../data/encoding/podcast/20240208-rephael/kw-podcast-full-777-glove50-lag2k-25-all-rephael2/*/*%s.csv\",\n",
    "  ]\n",
    "  labels = [\n",
    "    \"aggregate\",\n",
    "    \"control\",\n",
    "  ]\n",
    "  sig_elec_file = [\"../data/plotting/sig-elecs/podcast_160.csv\"]\n",
    "  keys = [\"comp\"] # comprehension and/or production\n",
    "  lags_plot = np.arange(-2000,2001,25) # encoding lags\n",
    "  lags_show = np.arange(-2000,2001,25) # lags for the effect\n",
    "  lc_by = \"labels\"\n",
    "  ls_by = \"keys\"\n",
    "\n",
    "# Aggregate Data\n",
    "args = Args()\n",
    "args.unique_labels = list(dict.fromkeys(args.labels))\n",
    "args.unique_keys = list(dict.fromkeys(args.keys))\n",
    "args.lags_show = args.lags_show / 1000\n",
    "args.lags_plot = args.lags_plot / 1000\n",
    "args = get_sigelecs(args)  # get significant electrodes\n",
    "\n",
    "df = aggregate_data(args) # aggregate data\n",
    "df = organize_data(args, df) # trim data if necessary\n",
    "df"
   ]
  },
  {
   "cell_type": "markdown",
   "metadata": {},
   "source": [
    "### Encoding Plot"
   ]
  },
  {
   "cell_type": "code",
   "execution_count": 14,
   "metadata": {},
   "outputs": [
    {
     "data": {
      "text/plain": [
       "<Figure size 640x480 with 0 Axes>"
      ]
     },
     "metadata": {},
     "output_type": "display_data"
    }
   ],
   "source": [
    "colors = [\"red\",\"blue\"]\n",
    "figsize = (10,5)\n",
    "\n",
    "fig, ax = plt.subplots(figsize=figsize)\n",
    "for color, (map_key, subdf) in zip(colors, df.groupby([\"label\"], axis=0)):\n",
    "    vals = subdf.mean(axis=0)\n",
    "    err = subdf.sem(axis=0)\n",
    "    label = map_key\n",
    "    ax.fill_between(\n",
    "        args.lags_show,\n",
    "        vals - err,\n",
    "        vals + err,\n",
    "        alpha=0.2,\n",
    "        color=color,\n",
    "    )\n",
    "    ax.plot(\n",
    "        args.lags_show,\n",
    "        vals,\n",
    "        label=f\"{label} ({len(subdf)})\",\n",
    "        color=color,\n",
    "        ls=\"-\",\n",
    "    )\n",
    "ax.axhline(0, ls=\"dashed\", alpha=0.3, c=\"k\")\n",
    "ax.axvline(0, ls=\"dashed\", alpha=0.3, c=\"k\")\n",
    "ax.legend(loc=\"upper right\", frameon=False)\n",
    "ax.set(xlabel=\"Lag (s)\", ylabel=\"Correlation (r)\", title=\"Global average\")\n",
    "pdf = PdfPages(\"../aggregate.pdf\")\n",
    "pdf.savefig(fig)\n",
    "plt.close()\n",
    "plt.savefig(\"../aggregate.jpeg\")"
   ]
  },
  {
   "cell_type": "code",
   "execution_count": 15,
   "metadata": {},
   "outputs": [],
   "source": [
    "for (electrode, sid), subdf in df.groupby([\"electrode\", \"sid\"], axis=0):\n",
    "    fig, ax = plt.subplots(figsize=figsize)\n",
    "    for (label, _, _, _), values in subdf.iterrows():\n",
    "        if label == \"aggregate\":\n",
    "            color = \"red\"\n",
    "        else:\n",
    "            color = \"blue\"\n",
    "        ax.plot(\n",
    "            args.lags_show,\n",
    "            values,\n",
    "            label=label,\n",
    "            color=color,\n",
    "            ls=\"-\",\n",
    "        )\n",
    "    ax.axhline(0, ls=\"dashed\", alpha=0.3, c=\"k\")\n",
    "    ax.axvline(0, ls=\"dashed\", alpha=0.3, c=\"k\")\n",
    "    ax.set_ylim(-0.1,0.5)\n",
    "    ax.legend(loc=\"upper left\", frameon=False)\n",
    "    ax.set(\n",
    "        xlabel=\"Lag (s)\",\n",
    "        ylabel=\"Correlation (r)\",\n",
    "        title=f\"{sid} {electrode}\",\n",
    "    )\n",
    "    imname = get_elecbrain(electrode)\n",
    "    if os.path.isfile(imname):\n",
    "        arr_image = plt.imread(imname, format=\"png\")\n",
    "        fig.figimage(\n",
    "            arr_image,\n",
    "            fig.bbox.xmax - arr_image.shape[1],\n",
    "            fig.bbox.ymax - arr_image.shape[0],\n",
    "            zorder=5,\n",
    "        )\n",
    "    pdf.savefig(fig)\n",
    "    plt.close()\n",
    "pdf.close()"
   ]
  },
  {
   "cell_type": "markdown",
   "metadata": {},
   "source": [
    "### Add max and area"
   ]
  },
  {
   "cell_type": "code",
   "execution_count": null,
   "metadata": {},
   "outputs": [],
   "source": [
    "df2 = df.copy()\n",
    "df2[\"max\"] = df2.loc[:,(np.arange(0,161))].max(axis=1)\n",
    "df2.reset_index(drop=False, inplace=True)\n",
    "\n",
    "area_df = pd.read_csv(\"../data/plotting/paper-mia/area_electrodes2.csv\")\n",
    "df2 = df2.merge(area_df, on=\"electrode\",how=\"left\")\n",
    "df2"
   ]
  },
  {
   "cell_type": "markdown",
   "metadata": {},
   "source": [
    "### Max Corr"
   ]
  },
  {
   "cell_type": "code",
   "execution_count": null,
   "metadata": {},
   "outputs": [],
   "source": [
    "class Args(argparse.Namespace):\n",
    "  main_dir = \"../data/plotting/brainplot/\" # loads coordinate and brain surface files\n",
    "  project = \"podcast\"\n",
    "  sid = [777] # subjects\n",
    "  keys = [\"comp\"] # comprehension and/or production\n",
    "  sig_elec_file = [\"../data/plotting/sig-elecs/podcast_160.csv\"]\n",
    "  brain_type = \"ave\" # average brain\n",
    "  hemisphere = \"both\" # only plot left hemisphere\n",
    "  outfile = \"../podcast_%s.png\"\n",
    "  final = False\n",
    "  final2 = False\n",
    "  shiny = False\n",
    "\n",
    "args = Args()\n",
    "\n",
    "args.color_split = [Colorbar(title=\"best layer\",colorscale=\"viridis\",bar_max=0.4, bar_min=0)]\n",
    "\n",
    "df_plot = df2.copy()\n",
    "df_plot[\"effect\"] = df_plot[\"max\"]\n",
    "df_plot[\"subject\"] = df_plot.electrode.str.split(\"_\", n=1, expand=True)[0]\n",
    "for model, subdf in df_plot.groupby(\"label\", axis=0):\n",
    "    subdf_plot = subdf.loc[:, (\"subject\", \"electrode\", \"effect\")]\n",
    "    print(model, subdf_plot.effect.mean())\n",
    "    fig = make_brainmap(args, subdf_plot, args.outfile % model) # plot png"
   ]
  },
  {
   "cell_type": "markdown",
   "metadata": {},
   "source": [
    "### Max Corr Diff"
   ]
  },
  {
   "cell_type": "code",
   "execution_count": null,
   "metadata": {},
   "outputs": [],
   "source": [
    "class Args(argparse.Namespace):\n",
    "  main_dir = \"../data/plotting/brainplot/\" # loads coordinate and brain surface files\n",
    "  project = \"podcast\"\n",
    "  sid = [777] # subjects\n",
    "  keys = [\"comp\"] # comprehension and/or production\n",
    "  sig_elec_file = [\"../data/plotting/sig-elecs/podcast_160.csv\"]\n",
    "  brain_type = \"ave\" # average brain\n",
    "  hemisphere = \"both\" # only plot left hemisphere\n",
    "  outfile = \"../podcast-diff-%s.png\"\n",
    "  final = False\n",
    "  final2 = False\n",
    "  shiny = False\n",
    "\n",
    "args = Args()\n",
    "\n",
    "# Colorsplit\n",
    "pos_bar = Colorbar(title=f\"Δ % corr pos\",colorscale=[[0, \"rgb(255,248,240)\"], [1, \"rgb(255,0,0)\"]],bar_min=0,bar_max=0.025)\n",
    "neg_bar = Colorbar(title=f\"Δ % corr neg\",colorscale=[[0, \"rgb(0,0,255)\"], [1, \"rgb(240,248,255)\"]],bar_min=-0.025,bar_max=0)\n",
    "args.color_split = [neg_bar,0,pos_bar]\n",
    "\n",
    "df_plot = df2.copy()\n",
    "df_base = df_plot.loc[df_plot[\"label\"] == \"control\",(\"electrode\",\"max\")].copy()\n",
    "df_plot = df_plot.merge(df_base,left_on=\"electrode\",right_on=\"electrode\",how=\"outer\")\n",
    "# df_plot[\"effect\"] = (df_plot[\"max_x\"] - df_plot[\"max_y\"]) / df_plot[[\"max_x\", \"max_y\"]].max(axis=1)\n",
    "# df_plot[\"effect\"] = df_plot[\"max_x\"] / df_plot[\"max_y\"] * 100 - 100\n",
    "df_plot[\"effect\"] = df_plot[\"max_x\"] - df_plot[\"max_y\"]\n",
    "df_plot[\"subject\"] = df_plot.electrode.str.split(\"_\", n=1, expand=True)[0]\n",
    "for model, subdf in df_plot.groupby(\"label\", axis=0):\n",
    "  if model == \"control\":\n",
    "    continue\n",
    "  subdf_plot = subdf.loc[:, (\"subject\", \"electrode\", \"effect\")]\n",
    "  print(model, subdf_plot.effect.describe())\n",
    "  fig = make_brainmap(args, subdf_plot, args.outfile % model) # plot png"
   ]
  }
 ],
 "metadata": {
  "kernelspec": {
   "display_name": "Python 3",
   "language": "python",
   "name": "python3"
  },
  "language_info": {
   "codemirror_mode": {
    "name": "ipython",
    "version": 3
   },
   "file_extension": ".py",
   "mimetype": "text/x-python",
   "name": "python",
   "nbconvert_exporter": "python",
   "pygments_lexer": "ipython3",
   "version": "3.10.13"
  }
 },
 "nbformat": 4,
 "nbformat_minor": 2
}
