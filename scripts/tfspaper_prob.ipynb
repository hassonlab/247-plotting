{
 "cells": [
  {
   "cell_type": "code",
   "execution_count": null,
   "metadata": {},
   "outputs": [],
   "source": [
    "import os\n",
    "import pandas as pd\n",
    "import numpy as np\n",
    "import argparse\n",
    "\n",
    "import matplotlib.pyplot as plt\n",
    "from scipy.stats import permutation_test\n",
    "from scipy.stats import ttest_1samp\n",
    "from scipy.stats import ttest_ind\n",
    "from statsmodels.stats import multitest\n",
    "\n",
    "from tfsplt_encoding import get_cmap_smap, aggregate_data, organize_data\n",
    "from tfsplt_utils import read_folder\n",
    "from tfsplt_brainmap import get_sigelecs, Colorbar, make_brainmap\n",
    "from tfsplt_brainmap_cat import make_brainmap_cat"
   ]
  },
  {
   "cell_type": "markdown",
   "metadata": {},
   "source": [
    "## Data Loading"
   ]
  },
  {
   "cell_type": "code",
   "execution_count": null,
   "metadata": {},
   "outputs": [],
   "source": [
    "# Load Sig Elec Files\n",
    "sig_df_whisper = pd.read_csv(\"../data/plotting/paper-whisper/data/base_df.csv\")\n",
    "\n",
    "sig_df_gpt2 = pd.read_csv(\"../data/plotting/sig-elecs/20230723-tfs-sig-file/tfs-sig-file.csv\").iloc[:,1:]\n",
    "sig_df_gpt2.rename(columns={\"patient\":\"sid\",\"electrode\":\"elec_1\",\"prod_significant\":\"gpt2-prod\",\"comp_significant\":\"gpt2-comp\"},inplace=True)\n",
    "sig_df_gpt2 = sig_df_gpt2.loc[sig_df_gpt2.model == \"glove\",(\"sid\",\"elec_1\",\"gpt2-prod\",\"gpt2-comp\")]\n",
    "\n",
    "sig_df = sig_df_whisper.merge(sig_df_gpt2,how=\"left\",on=[\"sid\",\"elec_1\"])\n",
    "sig_df = sig_df.fillna({\"gpt2-comp\":False,\"gpt2-prod\":False})\n",
    "sig_df[\"electrode\"] = sig_df.sid.astype(str) + \"_\" + sig_df.elec_1"
   ]
  },
  {
   "cell_type": "code",
   "execution_count": null,
   "metadata": {},
   "outputs": [],
   "source": [
    "class Args(argparse.Namespace):\n",
    "  sid = [625, 676, 7170, 798] # subjects\n",
    "  project = \"tfs\"\n",
    "  formats = [ # encoding folder\n",
    "    \"../data/encoding/tfs/20230227-gpt2-preds/kw-tfs-full-%s-glove50-lag10k-25-gpt2-xl-prob/*/*%s.csv\",\n",
    "    \"../data/encoding/tfs/20230227-gpt2-preds/kw-tfs-full-%s-glove50-lag10k-25-gpt2-xl-improb/*/*%s.csv\",\n",
    "  ]\n",
    "  labels = [\n",
    "    \"prob\",\n",
    "    \"improb\"\n",
    "  ]\n",
    "  sig_elec_file = [\"../data/plotting/sig-elecs/20230723-tfs-sig-file/tfs-sig-file-glove-%(sid)s-%(key)s.csv\"]\n",
    "  keys = [\"comp\",\"prod\"] # comprehension and/or production\n",
    "  layers = np.arange(0,25)\n",
    "  lags_plot = np.arange(-10000,10001,25) # encoding lags\n",
    "  lags_show = np.arange(-2000,2001,25) # lags for the effect\n",
    "  lc_by = \"labels\"\n",
    "  ls_by = \"keys\"\n",
    "\n",
    "# Aggregate Data\n",
    "args = Args()\n",
    "args.unique_labels = list(dict.fromkeys(args.labels))\n",
    "args.unique_keys = list(dict.fromkeys(args.keys))\n",
    "args.lags_show = args.lags_show / 1000\n",
    "args.lags_plot = args.lags_plot / 1000\n",
    "args = get_cmap_smap(args)  # get color and style map\n",
    "args = get_sigelecs(args)  # get significant electrodes\n",
    "df = aggregate_data(args) # aggregate data\n",
    "df = organize_data(args, df) # trim data if necessary\n"
   ]
  },
  {
   "cell_type": "markdown",
   "metadata": {},
   "source": [
    "## Encoding Plots"
   ]
  },
  {
   "cell_type": "markdown",
   "metadata": {},
   "source": [
    "Significant Test"
   ]
  },
  {
   "cell_type": "code",
   "execution_count": null,
   "metadata": {},
   "outputs": [],
   "source": [
    "# Sig tests\n",
    "def fdr(pvals):\n",
    "    _, pcor, _, _ = multitest.multipletests(\n",
    "        pvals, method=\"fdr_bh\", is_sorted=False\n",
    "    )\n",
    "    return pcor\n",
    "\n",
    "def get_sig_lags(args, df):\n",
    "    sig_lags = {}\n",
    "    for key in args.keys:\n",
    "        df_key = df[df.index.get_level_values(\"key\") == key]\n",
    "        df_prob = df_key[df_key.index.get_level_values(\"label\") == \"prob\"]\n",
    "        df_improb = df_key[df_key.index.get_level_values(\"label\") == \"improb\"]\n",
    "        # df_prob.sort_values([(\"electrode\")], ascending=True, inplace=True)\n",
    "        # df_improb.sort_values([(\"electrode\")], ascending=True, inplace=True)\n",
    "\n",
    "        ts = []\n",
    "        rs = []\n",
    "        for df_col in np.arange(0,df_prob.shape[1]):\n",
    "            r = ttest_ind(df_prob.iloc[:,df_col], df_improb.iloc[:,df_col],alternative=\"two-sided\")\n",
    "            ts.append(r[0])\n",
    "            rs.append(r[1])\n",
    "        rs = fdr(rs)\n",
    "\n",
    "        threshold = 0.01\n",
    "        sig_lags[f\"{key}_prob\"] = [args.lags_show[idx] for (idx, r) in enumerate(rs) if (ts[idx] > 0 and r < threshold)]\n",
    "        sig_lags[f\"{key}_improb\"] = [args.lags_show[idx] for (idx, r) in enumerate(rs) if (ts[idx] < 0 and r < threshold)]\n",
    "    return sig_lags"
   ]
  },
  {
   "cell_type": "markdown",
   "metadata": {},
   "source": [
    "Encoding Plot (Whole Brain and ROIs)"
   ]
  },
  {
   "cell_type": "code",
   "execution_count": null,
   "metadata": {},
   "outputs": [],
   "source": [
    "# Plot average encoding plots\n",
    "def average_encoding(args, df, tag):\n",
    "    sig_lags = get_sig_lags(args, df)\n",
    "    fig, axes = plt.subplots(1, 2, figsize=(18,5))\n",
    "    for ax, (plot, subdf) in zip(axes, df.groupby(\"key\", axis=0)):\n",
    "        for line, subsubdf in subdf.groupby(\"label\", axis=0):\n",
    "            vals = subsubdf.mean(axis=0)\n",
    "            err = subsubdf.sem(axis=0)\n",
    "            map_key = (line, plot)\n",
    "            ax.fill_between(\n",
    "                args.lags_show,\n",
    "                vals - err,\n",
    "                vals + err,\n",
    "                alpha=0.2,\n",
    "                color=args.cmap[map_key],\n",
    "            )\n",
    "            ax.plot(\n",
    "                args.lags_show,\n",
    "                vals,\n",
    "                label=f\"{line} ({len(subsubdf)})\",\n",
    "                color=args.cmap[map_key],\n",
    "                ls=args.smap[map_key],\n",
    "            )\n",
    "            ax.scatter(\n",
    "                sig_lags[f\"{plot}_{line}\"],\n",
    "                np.full(len(sig_lags[f\"{plot}_{line}\"]), 0.001),\n",
    "                color=args.cmap[map_key]\n",
    "            )\n",
    "        # ax.set_xticks(args.lag_ticks)\n",
    "        # ax.set_xticklabels(args.lag_tick_labels)\n",
    "        ax.axhline(0, ls=\"dashed\", alpha=0.3, c=\"k\")\n",
    "        ax.axvline(0, ls=\"dashed\", alpha=0.3, c=\"k\")\n",
    "        ax.set_title(f\"{plot}s global average\")\n",
    "        ax.legend(loc=\"upper right\", frameon=False)\n",
    "        ax.set(xlabel=\"Lag (s)\", ylabel=\"Correlation (r)\")\n",
    "    plt.savefig(f\"../prob-improb-{tag}.png\")\n",
    "    plt.close()\n",
    "\n",
    "# Plot average encoding plots for whole brain\n",
    "average_encoding(args, df, \"all\")\n",
    "\n",
    "# Plot average encoding plots for ROIs\n",
    "ROIS = {\n",
    "    # \"preCG\": [\"preCG\"],\n",
    "    # \"postCG\": [\"postCG\"],\n",
    "    # \"SM\": [\"preCG\",\"postCG\"],\n",
    "    # \"TP\": [\"TP\"],\n",
    "    \"STG\": [\"STG\"],\n",
    "    \"IFG\": [\"IFG\"],\n",
    "    # \"pMTG\": [\"pMTG\"],\n",
    "    # \"AG\": [\"AG\"],\n",
    "}\n",
    "\n",
    "for area_name, area in ROIS.items(): # area\n",
    "    roi_df = df[df.index.isin(sig_df.loc[sig_df.roi_1.isin(area), \"electrode\"].tolist(), level=1)]\n",
    "    average_encoding(args, roi_df, area_name)"
   ]
  },
  {
   "cell_type": "markdown",
   "metadata": {},
   "source": [
    "## Brainmap Plots"
   ]
  },
  {
   "cell_type": "markdown",
   "metadata": {},
   "source": [
    "Brainmap subject plots"
   ]
  },
  {
   "cell_type": "code",
   "execution_count": null,
   "metadata": {},
   "outputs": [],
   "source": [
    "# Subjects\n",
    "class Args(argparse.Namespace):\n",
    "  main_dir = \"../data/plotting/brainplot/\" # loads coordinate and brain surface files\n",
    "  project = \"tfs\"\n",
    "  sid = [625, 676, 7170, 798] # subjects\n",
    "  keys = [\"comp\",\"prod\"] # comprehension and/or production\n",
    "  brain_type = \"ave\" # average brain\n",
    "  hemisphere = \"left\" # only plot left hemisphere\n",
    "  outfile = \"../tfs_sids_%s.png\"\n",
    "\n",
    "args = Args()\n",
    "\n",
    "prop_cycle = plt.rcParams[\"axes.prop_cycle\"] # get the encoding default colors\n",
    "color_list = prop_cycle.by_key()[\"color\"]\n",
    "\n",
    "# Set Up Color Split\n",
    "args.colors = color_list\n",
    "\n",
    "for key in args.keys:\n",
    "    sig_df = sig_df[sig_df[f\"gpt2-{key}\"]]\n",
    "    sig_plot = pd.DataFrame({\"electrode\":sig_df.electrode,\"effect\":sig_df.sid})\n",
    "    fig = make_brainmap_cat(args, sig_plot, args.outfile % key)"
   ]
  },
  {
   "cell_type": "markdown",
   "metadata": {},
   "source": [
    "Getting effect (area difference)"
   ]
  },
  {
   "cell_type": "code",
   "execution_count": null,
   "metadata": {},
   "outputs": [],
   "source": [
    "def get_part_df(label):  # get partial df\n",
    "    idx = pd.IndexSlice\n",
    "    part_df = chosen_df.loc[idx[label, :, :, :], :].copy()\n",
    "    part_df.index = part_df.index.droplevel(\"label\")\n",
    "    part_df_idx = part_df.index.get_level_values(\"electrode\").tolist()\n",
    "    return part_df, part_df_idx\n",
    "\n",
    "chosen_lags = np.arange(-400,-99,25)\n",
    "lags_show = np.arange(-10000,10001,25)\n",
    "chosen_lags = [idx for (idx, lag) in enumerate(lags_show) if lag in chosen_lags]\n",
    "chosen_df = df.loc[:,chosen_lags]\n",
    "x_vals = [lags_show[lag] / 1000 for lag in chosen_lags]\n",
    "\n",
    "# Get Effect\n",
    "chosen_df[\"area\"] = np.trapz(chosen_df, x=x_vals, axis=1) # get area\n",
    "df1, _ = get_part_df(\"prob\") # get first encoding\n",
    "df2, _ = get_part_df(\"improb\") # get second encoding\n",
    "df1[\"area2\"] = df2[\"area\"]\n",
    "# df1.loc[:, \"effect\"] = df1[\"area\"] - df1[\"area2\"] # diff\n",
    "df1.loc[:, \"effect\"] = (df1[\"area\"] - df1[\"area2\"]) / df1[[\"area\",\"area2\"]].max(axis=1) # norm diff\n",
    "chosen_df = df1\n",
    "chosen_df.reset_index(inplace=True)"
   ]
  },
  {
   "cell_type": "markdown",
   "metadata": {},
   "source": [
    "Brainmap plots for area difference"
   ]
  },
  {
   "cell_type": "code",
   "execution_count": null,
   "metadata": {},
   "outputs": [],
   "source": [
    "class Args(argparse.Namespace):\n",
    "  main_dir = \"../data/plotting/brainplot/\" # loads coordinate and brain surface files\n",
    "  project = \"tfs\"\n",
    "  sid = [625, 676, 7170, 798] # subjects\n",
    "  keys = [\"comp\",\"prod\"] # comprehension and/or production\n",
    "  brain_type = \"ave\" # average brain\n",
    "  hemisphere = \"left\" # only plot left hemisphere\n",
    "  outfile = \"../tfs_prob-improb_%s.png\"\n",
    "\n",
    "args = Args()\n",
    "\n",
    "# Customize Your Color Split Here\n",
    "pos_bar = Colorbar(title=\"Δ corr pos\",colorscale=[[0, \"rgb(255,248,240)\"], [1, \"rgb(255,0,0)\"]],bar_max=1)\n",
    "neg_bar = Colorbar(title=\"Δ corr neg\",colorscale=[[0, \"rgb(0,0,255)\"], [1, \"rgb(240,248,255)\"]],bar_min=-1)\n",
    "args.color_split = [neg_bar,0,pos_bar]\n",
    "\n",
    "for key in args.keys: # comp/prod\n",
    "    df_plot = chosen_df.loc[chosen_df.key == key, (\"electrode\", \"effect\")]\n",
    "    fig = make_brainmap(args, df_plot, args.outfile % key) # plot png"
   ]
  }
 ],
 "metadata": {
  "kernelspec": {
   "display_name": "Python 3",
   "language": "python",
   "name": "python3"
  },
  "language_info": {
   "codemirror_mode": {
    "name": "ipython",
    "version": 3
   },
   "file_extension": ".py",
   "mimetype": "text/x-python",
   "name": "python",
   "nbconvert_exporter": "python",
   "pygments_lexer": "ipython3",
   "version": "3.10.4"
  },
  "orig_nbformat": 4
 },
 "nbformat": 4,
 "nbformat_minor": 2
}
