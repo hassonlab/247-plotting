{
 "cells": [
  {
   "cell_type": "code",
   "execution_count": null,
   "metadata": {},
   "outputs": [],
   "source": [
    "import os\n",
    "import pandas as pd\n",
    "import numpy as np\n",
    "import argparse\n",
    "\n",
    "import matplotlib.pyplot as plt\n",
    "import seaborn as sns\n",
    "import plotly.express as px\n",
    "from scipy.stats import permutation_test\n",
    "from scipy.stats import ttest_1samp\n",
    "from scipy.stats import ttest_ind\n",
    "from statsmodels.stats import multitest\n",
    "\n",
    "from tfsemb_class import tsne, save_pickle, add_speech\n",
    "from tfsplt_encoding import get_cmap_smap, aggregate_data, organize_data\n",
    "from tfsplt_utils import read_folder, load_pickle, get_con_color\n",
    "from tfsplt_brainmap import get_sigelecs, Colorbar, make_brainmap\n",
    "from tfsplt_brainmap_cat import make_brainmap_cat"
   ]
  },
  {
   "cell_type": "code",
   "execution_count": null,
   "metadata": {},
   "outputs": [],
   "source": [
    "df = pd.read_csv(\"../data/plotting/paper-arnab/all_subject_sig.csv\")\n",
    "df[\"effect\"] = df.area2\n",
    "df[\"effect\"].fillna(df[\"area\"], inplace=True)\n",
    "df.loc[df.effect == \"rSTG\", \"effect\"] = \"aSTG\"\n",
    "df = df[(~df.effect.isna()) & (df.effect != \"other\")]"
   ]
  },
  {
   "cell_type": "code",
   "execution_count": null,
   "metadata": {},
   "outputs": [],
   "source": [
    "df[df.effect == 'STG']"
   ]
  },
  {
   "cell_type": "code",
   "execution_count": null,
   "metadata": {},
   "outputs": [],
   "source": [
    "class Args(argparse.Namespace):\n",
    "  main_dir = \"../data/plotting/brainplot/\" # loads coordinate and brain surface files\n",
    "  project = \"podcast\"\n",
    "  sid = [777] # subjects\n",
    "  keys = [\"comp\"] # comprehension and/or production\n",
    "  sig_elec_file = [\"../data/plotting/sig-elecs/podcast_160.csv\"]\n",
    "  brain_type = \"ave\" # average brain\n",
    "  hemisphere = \"left\" # only plot left hemisphere\n",
    "  outfile = \"../podcast.png\"\n",
    "\n",
    "# Aggregate Data & Get Effect\n",
    "args = Args()\n",
    "df[\"electrode\"] = df.subject.astype(str) + \"_\" + df.elec\n",
    "\n",
    "# Customize Your Color list Here\n",
    "color_list = px.colors.qualitative.Prism # 10 colors\n",
    "\n",
    "# Set Up Color Split\n",
    "args.colors = color_list\n",
    "\n",
    "# Brain Map Plots\n",
    "fig = make_brainmap_cat(args, df.loc[:,(\"subject\",\"electrode\",\"effect\")], args.outfile) # plot png"
   ]
  }
 ],
 "metadata": {
  "kernelspec": {
   "display_name": "Python 3",
   "language": "python",
   "name": "python3"
  },
  "language_info": {
   "codemirror_mode": {
    "name": "ipython",
    "version": 3
   },
   "file_extension": ".py",
   "mimetype": "text/x-python",
   "name": "python",
   "nbconvert_exporter": "python",
   "pygments_lexer": "ipython3",
   "version": "3.10.4"
  },
  "orig_nbformat": 4
 },
 "nbformat": 4,
 "nbformat_minor": 2
}
