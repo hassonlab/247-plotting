{
 "cells": [
  {
   "cell_type": "code",
   "execution_count": 1,
   "metadata": {},
   "outputs": [],
   "source": [
    "import os\n",
    "import pandas as pd\n",
    "import numpy as np\n",
    "import json\n",
    "import argparse\n",
    "\n",
    "import matplotlib.pyplot as plt\n",
    "import seaborn as sns\n",
    "import plotly.express as px\n",
    "from scipy.stats import permutation_test\n",
    "from scipy.stats import ttest_1samp\n",
    "from scipy.stats import ttest_ind\n",
    "from statsmodels.stats import multitest\n",
    "\n",
    "from tfsemb_class import tsne, save_pickle, add_speech\n",
    "from tfsplt_encoding import get_cmap_smap, aggregate_data, organize_data\n",
    "from tfsplt_utils import read_folder, load_pickle, get_con_color\n",
    "from tfsplt_brainmap import get_sigelecs, Colorbar, make_brainmap\n",
    "from tfsplt_brainmap_cat import make_brainmap_cat"
   ]
  },
  {
   "cell_type": "markdown",
   "metadata": {},
   "source": [
    "## Data Loading"
   ]
  },
  {
   "cell_type": "code",
   "execution_count": 2,
   "metadata": {},
   "outputs": [],
   "source": [
    "max_cor_0 = pd.read_csv(\"../data/plotting/paper-mia/AA_gpt-neo-125M_elec_max_corr.csv\", index_col=0)\n",
    "max_cor_1 = pd.read_csv(\"../data/plotting/paper-mia/AA_gpt-neo-1.3B_elec_max_corr.csv\", index_col=0)\n",
    "max_cor_2 = pd.read_csv(\"../data/plotting/paper-mia/AA_gpt-neo-2.7B_elec_max_corr.csv\", index_col=0)\n",
    "max_cor_3 = pd.read_csv(\"../data/plotting/paper-mia/AA_gpt-neox-20b_elec_max_corr.csv\", index_col=0)"
   ]
  },
  {
   "cell_type": "code",
   "execution_count": 9,
   "metadata": {},
   "outputs": [],
   "source": [
    "LAYERS_DICT = {\n",
    "    \"first\": [0,0,0,0],\n",
    "    \"mid\": [6,12,16,22],\n",
    "    \"last\": [12,24,32,44],\n",
    "    \"best\": [10,22,18,14]\n",
    "}"
   ]
  },
  {
   "cell_type": "markdown",
   "metadata": {},
   "source": [
    "## Best Layer Max Corr"
   ]
  },
  {
   "cell_type": "code",
   "execution_count": null,
   "metadata": {},
   "outputs": [],
   "source": [
    "class Args(argparse.Namespace):\n",
    "  main_dir = \"../data/plotting/brainplot/\" # loads coordinate and brain surface files\n",
    "  project = \"podcast\"\n",
    "  sid = [777] # subjects\n",
    "  keys = [\"comp\"] # comprehension and/or production\n",
    "  sig_elec_file = [\"../data/plotting/sig-elecs/podcast_160.csv\"]\n",
    "  brain_type = \"ave\" # average brain\n",
    "  hemisphere = \"left\" # only plot left hemisphere\n",
    "  outfile = \"../podcast.svg\"\n",
    "\n",
    "args = Args()\n",
    "\n",
    "# args.color_split = [Colorbar(colorscale=\"hot\",bar_min=0,bar_max=0.4,title=\"max encoding performance (r)\")]\n",
    "args.color_split = [Colorbar(colorscale=\"viridis\",bar_min=0,bar_max=0.4,title=\"max encoding performance (r)\")]\n",
    "\n",
    "# Brain Map Plots\n",
    "model_num = 3\n",
    "model_df = max_cor_3.copy()\n",
    "model_df[\"electrode\"] =  model_df.elec_name.str.replace(\"_comp\",\"\")\n",
    "model_df[\"subject\"] = model_df.electrode.str.split(\"_\", n=1, expand=True)[0]\n",
    "model_df[\"effect\"] =  model_df.max_corr\n",
    "\n",
    "df_plot = model_df.loc[model_df.layer == LAYERS_DICT[\"best\"][model_num], (\"subject\",\"electrode\", \"effect\")]\n",
    "fig = make_brainmap(args, df_plot, args.outfile) # plot png"
   ]
  },
  {
   "cell_type": "markdown",
   "metadata": {},
   "source": [
    "## Best Layer Max Corr Diff"
   ]
  },
  {
   "cell_type": "code",
   "execution_count": 10,
   "metadata": {},
   "outputs": [
    {
     "ename": "SyntaxError",
     "evalue": "invalid syntax (365761592.py, line 20)",
     "output_type": "error",
     "traceback": [
      "\u001b[0;36m  Input \u001b[0;32mIn [10]\u001b[0;36m\u001b[0m\n\u001b[0;31m    if layer_type !=\u001b[0m\n\u001b[0m                     ^\u001b[0m\n\u001b[0;31mSyntaxError\u001b[0m\u001b[0;31m:\u001b[0m invalid syntax\n"
     ]
    }
   ],
   "source": [
    "class Args(argparse.Namespace):\n",
    "  main_dir = \"../data/plotting/brainplot/\" # loads coordinate and brain surface files\n",
    "  project = \"podcast\"\n",
    "  sid = [777] # subjects\n",
    "  keys = [\"comp\"] # comprehension and/or production\n",
    "  sig_elec_file = [\"../data/plotting/sig-elecs/podcast_160.csv\"]\n",
    "  brain_type = \"ave\" # average brain\n",
    "  hemisphere = \"left\" # only plot left hemisphere\n",
    "  outfile = \"../podcast-%s.svg\"\n",
    "\n",
    "args = Args()\n",
    "\n",
    "# Colorsplit\n",
    "pos_bar = Colorbar(title=\"Δ corr pos\",colorscale=[[0, \"rgb(255,248,240)\"], [1, \"rgb(255,0,0)\"]],bar_min = 0,bar_max=0.15)\n",
    "neg_bar = Colorbar(title=\"Δ corr neg\",colorscale=[[0, \"rgb(0,0,255)\"], [1, \"rgb(240,248,255)\"]],bar_min=-0.15,bar_max=0)\n",
    "args.color_split = [neg_bar,0,pos_bar]\n",
    "\n",
    "# Brain Map Plots\n",
    "for layer_type in LAYERS_DICT:\n",
    "  if layer_type != \"best\":\n",
    "    continue\n",
    "  print(layer_type)\n",
    "  # calculate difference\n",
    "  model_0 = max_cor_0.loc[max_cor_0.layer == LAYERS_DICT[layer_type][0],(\"elec_name\",\"max_corr\")]\n",
    "  model_1 = max_cor_1.loc[max_cor_1.layer == LAYERS_DICT[layer_type][1],(\"elec_name\",\"max_corr\")]\n",
    "  model_2 = max_cor_2.loc[max_cor_2.layer == LAYERS_DICT[layer_type][2],(\"elec_name\",\"max_corr\")]\n",
    "  model_3 = max_cor_3.loc[max_cor_3.layer == LAYERS_DICT[layer_type][3],(\"elec_name\",\"max_corr\")]\n",
    "  model_2.sort_values(by=\"elec_name\",inplace=True)\n",
    "  model_3.sort_values(by=\"elec_name\",inplace=True)\n",
    "  model_3 = model_3.assign(max_corr2 = model_1.max_corr)\n",
    "  model_3 = model_3.assign(effect = model_3.max_corr - model_3.max_corr2)\n",
    "  # format datum\n",
    "  model_3[\"electrode\"] =  model_3.elec_name.str.replace(\"_comp\",\"\")\n",
    "  model_3[\"subject\"] = model_3.electrode.str.split(\"_\", n=1, expand=True)[0]\n",
    "\n",
    "  df_plot = model_3.loc[:, (\"subject\",\"electrode\", \"effect\")]\n",
    "  fig = make_brainmap(args, df_plot, args.outfile % layer_type) # plot png"
   ]
  },
  {
   "cell_type": "markdown",
   "metadata": {},
   "source": [
    "## Max Corr per Layer"
   ]
  },
  {
   "cell_type": "code",
   "execution_count": null,
   "metadata": {},
   "outputs": [],
   "source": [
    "class Args(argparse.Namespace):\n",
    "  main_dir = \"../data/plotting/brainplot/\" # loads coordinate and brain surface files\n",
    "  project = \"podcast\"\n",
    "  sid = [777] # subjects\n",
    "  keys = [\"comp\"] # comprehension and/or production\n",
    "  sig_elec_file = [\"../data/plotting/sig-elecs/podcast_160.csv\"]\n",
    "  brain_type = \"ave\" # average brain\n",
    "  hemisphere = \"left\" # only plot left hemisphere\n",
    "  outfile = \"../podcast-%s.png\"\n",
    "\n",
    "args = Args()\n",
    "\n",
    "args.color_split = [Colorbar(colorscale=\"viridis\",bar_max=0.45)]\n",
    "\n",
    "# Brain Map Plots\n",
    "model_num = 3\n",
    "model_df = max_cor_4.copy()\n",
    "model_df[\"electrode\"] =  model_df.elec_name.str.replace(\"_comp\",\"\")\n",
    "model_df[\"subject\"] = model_df.electrode.str.split(\"_\", n=1, expand=True)[0]\n",
    "model_df[\"effect\"] =  model_df.max_corr\n",
    "\n",
    "for layer in np.arange(LAYERS_DICT[\"first\"][model_num],LAYERS_DICT[\"last\"][model_num] + 1):\n",
    "  print(layer)\n",
    "  df_plot = model_df.loc[model_df.layer == layer, (\"subject\",\"electrode\", \"effect\")]\n",
    "  fig = make_brainmap(args, df_plot, args.outfile % f\"{layer:02}\") # plot png"
   ]
  },
  {
   "cell_type": "markdown",
   "metadata": {},
   "source": [
    "## Max Corr"
   ]
  },
  {
   "cell_type": "code",
   "execution_count": null,
   "metadata": {},
   "outputs": [],
   "source": [
    "class Args(argparse.Namespace):\n",
    "  main_dir = \"../data/plotting/brainplot/\" # loads coordinate and brain surface files\n",
    "  project = \"podcast\"\n",
    "  sid = [777] # subjects\n",
    "  keys = [\"comp\"] # comprehension and/or production\n",
    "  sig_elec_file = [\"../data/plotting/sig-elecs/podcast_160.csv\"]\n",
    "  brain_type = \"ave\" # average brain\n",
    "  hemisphere = \"left\" # only plot left hemisphere\n",
    "  outfile = \"../podcast.png\"\n",
    "\n",
    "args = Args()\n",
    "\n",
    "args.color_split = [Colorbar(title=\"best layer\",colorscale=\"viridis\",bar_max=0.45, bar_min=0)]\n",
    "\n",
    "df_plot = max_cor_1.sort_values([\"max_corr\"], ascending=False).groupby(\"elec_name\").first()\n",
    "df_plot.reset_index(inplace=True)\n",
    "df_plot[\"effect\"] = df_plot.max_corr\n",
    "df_plot[\"electrode\"] =  df_plot.elec_name.str.replace(\"_comp\",\"\")\n",
    "df_plot[\"subject\"] = df_plot.electrode.str.split(\"_\", n=1, expand=True)[0]\n",
    "df_plot = df_plot.loc[:, (\"subject\",\"electrode\", \"effect\")]\n",
    "fig = make_brainmap(args, df_plot, args.outfile) # plot png"
   ]
  },
  {
   "cell_type": "markdown",
   "metadata": {},
   "source": [
    "## Max Corr Diff"
   ]
  },
  {
   "cell_type": "code",
   "execution_count": null,
   "metadata": {},
   "outputs": [],
   "source": [
    "class Args(argparse.Namespace):\n",
    "  main_dir = \"../data/plotting/brainplot/\" # loads coordinate and brain surface files\n",
    "  project = \"podcast\"\n",
    "  sid = [777] # subjects\n",
    "  keys = [\"comp\"] # comprehension and/or production\n",
    "  sig_elec_file = [\"../data/plotting/sig-elecs/podcast_160.csv\"]\n",
    "  brain_type = \"ave\" # average brain\n",
    "  hemisphere = \"left\" # only plot left hemisphere\n",
    "  outfile = \"../podcast-best-diff.png\"\n",
    "\n",
    "args = Args()\n",
    "\n",
    "# Colorsplit\n",
    "pos_bar = Colorbar(title=\"Δ corr pos\",colorscale=[[0, \"rgb(255,248,240)\"], [1, \"rgb(255,0,0)\"]],bar_max=0.1)\n",
    "neg_bar = Colorbar(title=\"Δ corr neg\",colorscale=[[0, \"rgb(0,0,255)\"], [1, \"rgb(240,248,255)\"]],bar_min=-0.1)\n",
    "args.color_split = [neg_bar,0,pos_bar]\n",
    "\n",
    "\n",
    "df_plot = max_cor_3.sort_values([\"max_corr\"], ascending=False).groupby(\"elec_name\").first()\n",
    "df_plot.reset_index(inplace=True)\n",
    "df_plot2 = max_cor_2.sort_values([\"max_corr\"], ascending=False).groupby(\"elec_name\").first()\n",
    "df_plot2.reset_index(inplace=True)\n",
    "df_plot[\"max_corr2\"] = df_plot2.max_corr\n",
    "df_plot[\"effect\"] = df_plot.max_corr - df_plot.max_corr2\n",
    "df_plot[\"electrode\"] =  df_plot.elec_name.str.replace(\"_comp\",\"\")\n",
    "df_plot[\"subject\"] = df_plot.electrode.str.split(\"_\", n=1, expand=True)[0]\n",
    "\n",
    "df_plot = df_plot.loc[:, (\"subject\",\"electrode\", \"effect\")]\n",
    "fig = make_brainmap(args, df_plot, args.outfile) # plot png"
   ]
  },
  {
   "cell_type": "markdown",
   "metadata": {},
   "source": [
    "## Max Corr Layer"
   ]
  },
  {
   "cell_type": "code",
   "execution_count": 22,
   "metadata": {},
   "outputs": [
    {
     "name": "stdout",
     "output_type": "stream",
     "text": [
      "Number of electrodes for encoding: 160\n",
      "Number of electrodes for plotting: 160\n",
      "Plot Hemisphere\n",
      "Plotting 160 Electrodes with ave coordinates\n",
      "Writing to ../podcast.svg\n"
     ]
    }
   ],
   "source": [
    "class Args(argparse.Namespace):\n",
    "  main_dir = \"../data/plotting/brainplot/\" # loads coordinate and brain surface files\n",
    "  project = \"podcast\"\n",
    "  sid = [777] # subjects\n",
    "  keys = [\"comp\"] # comprehension and/or production\n",
    "  sig_elec_file = [\"../data/plotting/sig-elecs/podcast_160.csv\"]\n",
    "  brain_type = \"ave\" # average brain\n",
    "  hemisphere = \"left\" # only plot left hemisphere\n",
    "  outfile = \"../podcast.svg\"\n",
    "\n",
    "args = Args()\n",
    "\n",
    "args.color_split = [Colorbar(title=\"Layer with best correlation (relative %)\",colorscale=\"agsunset\",bar_max=1, bar_min=0)]\n",
    "# args.color_split = [Colorbar(title=\"Layer with best correlation (relative %)\",colorscale=\"inferno\",bar_max=1, bar_min=0)]\n",
    "\n",
    "model_num = 3\n",
    "df_plot = max_cor_3.sort_values([\"max_corr\"], ascending=False).groupby(\"elec_name\").first()\n",
    "df_plot.reset_index(inplace=True)\n",
    "min = LAYERS_DICT[\"first\"][model_num]\n",
    "max = LAYERS_DICT[\"last\"][model_num]\n",
    "df_plot[\"effect\"] = df_plot.layer / (max - min)\n",
    "# df_plot[\"effect\"] = df_plot.layer\n",
    "df_plot[\"electrode\"] =  df_plot.elec_name.str.replace(\"_comp\",\"\")\n",
    "df_plot[\"subject\"] = df_plot.electrode.str.split(\"_\", n=1, expand=True)[0]\n",
    "df_plot = df_plot.loc[:, (\"subject\",\"electrode\", \"effect\")]\n",
    "fig = make_brainmap(args, df_plot, args.outfile) # plot png"
   ]
  },
  {
   "cell_type": "markdown",
   "metadata": {},
   "source": [
    "## Area brainmap"
   ]
  },
  {
   "cell_type": "code",
   "execution_count": null,
   "metadata": {},
   "outputs": [],
   "source": [
    "class Args(argparse.Namespace):\n",
    "  main_dir = \"../data/plotting/brainplot/\" # loads coordinate and brain surface files\n",
    "  project = \"podcast\"\n",
    "  sid = [777] # subjects\n",
    "  keys = [\"comp\"] # comprehension and/or production\n",
    "  sig_elec_file = [\"../data/plotting/sig-elecs/podcast_160.csv\"]\n",
    "  brain_type = \"ave\" # average brain\n",
    "  hemisphere = \"left\" # only plot left hemisphere\n",
    "  outfile = \"../podcast.png\"\n",
    "\n",
    "args = Args()\n",
    "color_list = [\"rgb(55,126,184)\",\"rgb(255,127,0)\",\"rgb(77,175,74)\",\"rgb(152,78,163)\"]\n",
    "args.colors = color_list\n",
    "\n",
    "area_file = \"../data/plotting/paper-mia/area_electrodes.json\"\n",
    "with open(area_file, \"r\") as j:\n",
    "    area_dict = json.loads(j.read())\n",
    "\n",
    "area_df = []\n",
    "for area in area_dict:\n",
    "    for elec in area_dict[area]:\n",
    "        area_df.append([elec, area])\n",
    "\n",
    "area_df = pd.DataFrame(area_df)\n",
    "area_df.columns = [\"electrode\",\"effect\"]\n",
    "area_df[\"subject\"] = area_df.electrode.str.split(\"_\", n=1, expand=True)[0]\n",
    "fig = make_brainmap_cat(args, area_df, args.outfile) # plot png\n"
   ]
  }
 ],
 "metadata": {
  "kernelspec": {
   "display_name": "Python 3",
   "language": "python",
   "name": "python3"
  },
  "language_info": {
   "codemirror_mode": {
    "name": "ipython",
    "version": 3
   },
   "file_extension": ".py",
   "mimetype": "text/x-python",
   "name": "python",
   "nbconvert_exporter": "python",
   "pygments_lexer": "ipython3",
   "version": "3.10.4"
  },
  "orig_nbformat": 4
 },
 "nbformat": 4,
 "nbformat_minor": 2
}
