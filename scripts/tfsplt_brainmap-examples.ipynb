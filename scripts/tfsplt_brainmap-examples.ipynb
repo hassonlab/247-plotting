{
 "cells": [
  {
   "attachments": {},
   "cell_type": "markdown",
   "metadata": {},
   "source": [
    "## Introduction\n",
    "\n",
    "This notebook is used to showcase brainmap plots using encoding results.\n"
   ]
  },
  {
   "cell_type": "code",
   "execution_count": null,
   "metadata": {},
   "outputs": [],
   "source": [
    "import argparse\n",
    "import glob\n",
    "import os\n",
    "\n",
    "import matplotlib.pyplot as plt\n",
    "import plotly.express as px\n",
    "import numpy as np\n",
    "import pandas as pd\n",
    "\n",
    "from tfsplt_encoding import organize_data\n",
    "from tfsplt_brainmap import get_sigelecs, aggregate_data, Colorbar, read_coor, make_brainmap, plot_brainmap\n",
    "from tfsplt_brainmap_cat import get_sigelec_df, make_brainmap_cat, plot_brainmap_cat"
   ]
  },
  {
   "cell_type": "markdown",
   "metadata": {},
   "source": [
    "## Color Split Examples\n",
    "\n",
    "Color split is a list consisting of floats and `Colorbar` objects. It is necessary for a brainmap plot.\n",
    "\n",
    "Thinking of the color split as a horizontal number line. In the color split, if there is a float on the left of a `Colorbar`, it serves as the lower limit or minimum of the colorbar. Similarly, if there is a float on the right, it serves as the upper limit or maximum of the colorbar.\n",
    "\n",
    "Inside the script, we will split the electrodes into different colorbars based on their effect values."
   ]
  },
  {
   "cell_type": "code",
   "execution_count": null,
   "metadata": {},
   "outputs": [],
   "source": [
    "# Color Split with one colorbar for all values\n",
    "color_split = [Colorbar()]\n",
    "\n",
    "# Color Split with one colorbar (only take values from 0.2 to 0.3)\n",
    "color_split = [0.2, Colorbar(), 0.3]\n",
    "\n",
    "# Color Split with two colorbars for all positive and negative values\n",
    "color_split = [Colorbar(), 0, Colorbar()]\n",
    "\n",
    "# Color Split with two colobars for really positive and negative values\n",
    "# Any electrodes with effect values between -0.1 to 0.1 will not be plotted\n",
    "color_split = [Colorbar(), -0.1, 0.1, Colorbar()]"
   ]
  },
  {
   "cell_type": "markdown",
   "metadata": {},
   "source": [
    "`Colorbar` is a class defined in `tfsplt_brainmap.py`. Each is used to plot a colorbar in the brainmap.\n",
    "\n",
    "Each `Colorbar` has these arguments:\n",
    "- `title`: title of the colorbar, defaults to \"correlation\"\n",
    "- `colorscale`: a colorscale of the colorbar, can be defined as a list of lists of colors, or a named colorscale defined here (https://plotly.com/python/builtin-colorscales/), defaults to red to yellow\n",
    "  - red to yellow: `[[0, \"rgb(255,0,0)\"], [1, \"rgb(255,255,0)\"]]`\n",
    "  - blue to white to red: `[[0, \"rgb(0,0,255)\"], [0.5, \"rgb(255,255,255)\"], [1, \"rgb(255,0,0)\"]]`\n",
    "  - viridis colorscale: `\"viridis\"`\n",
    "- `bar_min`: the minimum value for the colorscale, defaults to \"min\", which is the effect minimum. If a float is provided, any effect smaller than the float is adjusted to the float\n",
    "- `bar_max`: the maximum of the colorscale, defaults to \"max\", which is the effect maximum. If a float is provided, any effect bigger than the float is adjusted to the float"
   ]
  },
  {
   "cell_type": "code",
   "execution_count": null,
   "metadata": {},
   "outputs": [],
   "source": [
    "# For each colorbar object, if we don't provide any arguments, these are the defaults:\n",
    "cbar = Colorbar()\n",
    "print(cbar)\n",
    "\n",
    "# Colorbar with customized title and colorscale\n",
    "cbar = Colorbar(title=\"max-cor\",colorscale=\"viridis\")\n",
    "print(cbar)\n",
    "\n",
    "# Colorbar with customized range\n",
    "# Electrode values smaller than 0.1 will be plotted as 0.1\n",
    "# Electrode values bigger than 0.3 will be plotted as 0.3\n",
    "cbar = Colorbar(bar_min = 0.1, bar_max = 0.3)\n",
    "print(cbar)\n"
   ]
  },
  {
   "cell_type": "markdown",
   "metadata": {},
   "source": [
    "## Brain Map Functions\n",
    "\n",
    "We have two types of functions to plot brainmaps. One is `make_brainmap` and `make_brainmap_cat`, which plots and saves the brainmap given a dataframe with \"electrode\" and \"effect\" columns. The other is `plot_brainmap` and `plot_brainmap_cat`, which is the lower level function. It plots the brainmap given a dataframe with \"electrode\", \"effect\", and electrode coordinate (\"MNI_X\", \"MNI_Y\", \"MNI_Z\" for average, \"T1_X\", \"T1_Y\", \"T1_Z\" for individual) columns.\n",
    "\n",
    "The `make_brainmap_cat` and `plot_brainmap_cat` functions plots electrode categories and creates a legend instead of a colobar. The most common use is plot electrodes colored by different subjects.\n",
    "\n",
    "For both functions, we also need to provide some necessary args:\n",
    "- args (namespace): commandline arguments\n",
    "- df (pandas DataFrame): dataframe with electrodes and effects\n",
    "- outfile (str): outfile name\n",
    "  - Provide an empty string for `outfile` if you don't want the function to write to png\n",
    "\n",
    "Note: Both functions return the 3D plotly object if needed"
   ]
  },
  {
   "attachments": {},
   "cell_type": "markdown",
   "metadata": {},
   "source": [
    "## Example 1 (247 Max)\n",
    "\n",
    "Here we are plotting the maximum correlation across lags for each electrode based on the glove encoding results. This effectively is the same as [this](https://github.com/hassonlab/247-plotting/wiki/Brainmap-Max), except we will customize the colorbar"
   ]
  },
  {
   "cell_type": "code",
   "execution_count": null,
   "metadata": {},
   "outputs": [],
   "source": [
    "class Args(argparse.Namespace):\n",
    "  main_dir = \"../data/plotting/brainplot/\" # loads coordinate and brain surface files\n",
    "  project = \"tfs\"\n",
    "  sid = [625, 676, 7170, 798] # subjects\n",
    "  formats = [ # encoding folder\n",
    "    \"/projects/HASSON/247/ken-encoding/demo/stock-glove/kw-tfs-full-%s-glove50-lag2k-25-all/*/*%s.csv\"\n",
    "  ]\n",
    "  keys = [\"comp\",\"prod\"] # comprehension and/or production\n",
    "  sig_elec_file = [\"../data/plotting/sig-elecs/20230510-tfs-sig-file/tfs-sig-file-glove-%(sid)s-%(key)s.csv\"]\n",
    "  lags_plot = np.arange(-2000,2001,25) # encoding lags\n",
    "  lags_show = np.arange(-2000,2001,25) # lags for the effect\n",
    "  brain_type = \"ave\" # average brain\n",
    "  hemisphere = \"left\" # only plot left hemisphere\n",
    "  outfile = \"../glove_%s.png\"\n",
    "\n",
    "# Aggregate Data\n",
    "args = Args()\n",
    "args = get_sigelecs(args) # get significant electrodes\n",
    "df = aggregate_data(args) # aggregate data\n",
    "df = organize_data(args, df) # trim data if necessary\n",
    "\n",
    "# Get Effect\n",
    "df[\"effect\"] = df.max(axis=1) # get max per electrode\n",
    "df.reset_index(inplace=True)"
   ]
  },
  {
   "cell_type": "code",
   "execution_count": null,
   "metadata": {},
   "outputs": [],
   "source": [
    "# Customize Your Color Split Here\n",
    "args.color_split = [Colorbar(title=\"max-cor\",colorscale=\"viridis\")]\n",
    "\n",
    "# Brain Map Plots\n",
    "for key in args.keys: # comp/prod\n",
    "    df_plot = df.loc[df.key == key, (\"electrode\", \"effect\")]\n",
    "    fig = make_brainmap(args, df_plot, args.outfile % key) # plot png"
   ]
  },
  {
   "cell_type": "markdown",
   "metadata": {},
   "source": [
    "## Example 2 (247 Max Difference)\n",
    "\n",
    "Here we are plotting the difference of maximum correlation across lags for each electrode based on the whisper-medium encoding results. This effectively is the same as [this](https://github.com/hassonlab/247-plotting/wiki/Brainmap-Max-Difference), except we will customize the colorbar range"
   ]
  },
  {
   "cell_type": "code",
   "execution_count": null,
   "metadata": {},
   "outputs": [],
   "source": [
    "class Args(argparse.Namespace):\n",
    "  main_dir = \"../data/plotting/brainplot/\" # loads coordinate and brain surface files\n",
    "  project = \"tfs\"\n",
    "  sid = [625, 676, 7170, 798] # subjects\n",
    "  formats = [ # encoding folder\n",
    "    \"/projects/HASSON/247/ken-encoding/demo/20230520-whisper-medium/kw-tfs-full-%s-whisper-medium.en-encoder-lag5k-25-all-24/*/*%s.csv\",\n",
    "    \"/projects/HASSON/247/ken-encoding/demo/20230520-whisper-medium/kw-tfs-full-%s-whisper-medium.en-decoder-lag5k-25-all-18/*/*%s.csv\"\n",
    "  ]\n",
    "  keys = [\"comp\",\"prod\"] # comprehension and/or production\n",
    "  sig_elec_file = [\"../data/plotting/sig-elecs/20230413-whisper-paper/tfs-sig-file-%(sid)s-whisper-ende-outer-%(key)s.csv\"]\n",
    "  lags_plot = np.arange(-5000,5001,25) # encoding lags\n",
    "  lags_show = np.arange(-5000,5001,25) # lags for the effect\n",
    "  brain_type = \"ave\" # average brain\n",
    "  hemisphere = \"left\" # only plot left hemisphere\n",
    "  outfile = \"../whisper-diff_%s.png\"\n",
    "\n",
    "\n",
    "def get_part_df(label):  # get partial df\n",
    "    idx = pd.IndexSlice\n",
    "    part_df = df.loc[idx[label, :, :, :], :].copy()\n",
    "    part_df.index = part_df.index.droplevel(\"label\")\n",
    "    part_df_idx = part_df.index.get_level_values(\"electrode\").tolist()\n",
    "    return part_df, part_df_idx\n",
    "\n",
    "# Aggregate Data\n",
    "args = Args()\n",
    "args = get_sigelecs(args) # get significant electrodes\n",
    "df = aggregate_data(args) # aggregate data\n",
    "df = organize_data(args, df) # trim data if necessary\n",
    "\n",
    "# Get Effect\n",
    "df[\"max\"] = df.max(axis=1) # get max per electrode\n",
    "df1, _ = get_part_df(\"enc1\") # get first encoding\n",
    "df2, _ = get_part_df(\"enc2\") # get second encoding\n",
    "df1.loc[:, \"effect\"] = df1[\"max\"] - df2[\"max\"] # get difference\n",
    "df = df1\n",
    "df.reset_index(inplace=True)"
   ]
  },
  {
   "cell_type": "code",
   "execution_count": null,
   "metadata": {},
   "outputs": [],
   "source": [
    "# Customize Your Color Split Here\n",
    "pos_bar = Colorbar(title=\"Δ corr pos\",colorscale=[[0, \"rgb(255,248,240)\"], [1, \"rgb(255,0,0)\"]],bar_max=0.15)\n",
    "neg_bar = Colorbar(title=\"Δ corr neg\",colorscale=[[0, \"rgb(0,0,255)\"], [1, \"rgb(240,248,255)\"]],bar_min=-0.15)\n",
    "args.color_split = [neg_bar,-0.01,0.01,pos_bar]\n",
    "\n",
    "# Brain Map Plots\n",
    "for key in args.keys: # comp/prod\n",
    "    df_plot = df.loc[df.key == key, (\"electrode\", \"effect\")]\n",
    "    fig = make_brainmap(args, df_plot, args.outfile % key) # plot png"
   ]
  },
  {
   "cell_type": "markdown",
   "metadata": {},
   "source": [
    "## Example 3 (247 Subjects)\n",
    "\n",
    "Here we are plotting the 247 significant glove electrodes colored by subjects. This effectively is the same as [this](https://github.com/hassonlab/247-plotting/wiki/Brainmap-247-Subjects), except we use the customized colors here."
   ]
  },
  {
   "cell_type": "code",
   "execution_count": null,
   "metadata": {},
   "outputs": [],
   "source": [
    "class Args(argparse.Namespace):\n",
    "  main_dir = \"../data/plotting/brainplot/\" # loads coordinate and brain surface files\n",
    "  project = \"tfs\"\n",
    "  sid = [625, 676, 7170, 798] # subjects\n",
    "  keys = [\"comp\",\"prod\"] # comprehension and/or production\n",
    "  sig_elec_file = [\"../data/plotting/sig-elecs/20230510-tfs-sig-file/tfs-sig-file-glove-%(sid)s-%(key)s.csv\"]\n",
    "  brain_type = \"ave\" # average brain\n",
    "  hemisphere = \"left\" # only plot left hemisphere\n",
    "  outfile = \"../tfs_%s.png\"\n",
    "\n",
    "# Aggregate Data & Get Effect\n",
    "args = Args()\n",
    "df = get_sigelec_df(args)\n",
    "df[\"effect\"] = df.subject.astype(int)\n",
    "df.loc[df.effect == 7170, \"effect\"] = 717  # fix for 717\n",
    "df[\"electrode\"] = df.subject.astype(str) + \"_\" + df.electrode"
   ]
  },
  {
   "cell_type": "code",
   "execution_count": null,
   "metadata": {},
   "outputs": [],
   "source": [
    "# Customize Your Color list Here\n",
    "# Get qualitative color list (https://plotly.com/python/discrete-color/)\n",
    "# color_list = px.colors.qualitative.Light24 # 24 colors\n",
    "# color_list = px.colors.qualitative.Plotly # 10 colors\n",
    "prop_cycle = plt.rcParams[\"axes.prop_cycle\"] # get the encoding default colors\n",
    "color_list = prop_cycle.by_key()[\"color\"]\n",
    "\n",
    "# Set Up Color Split\n",
    "args.colors = color_list\n",
    "\n",
    "# Brain Map Plots\n",
    "for key in args.keys:\n",
    "    df_plot = df.loc[df.key == key, (\"electrode\", \"effect\")]\n",
    "    fig = make_brainmap_cat(args, df_plot, args.outfile % key) # plot png"
   ]
  },
  {
   "cell_type": "markdown",
   "metadata": {},
   "source": [
    "## Example 4 (Podcast Subjects)\n",
    "\n",
    "Here we are plotting the significant podcast electrodes (160) colored by subjects. This effectively is the same as [this](https://github.com/hassonlab/247-plotting/wiki/Brainmap-Podcast-Subjects), except we use the customized colors here."
   ]
  },
  {
   "cell_type": "code",
   "execution_count": null,
   "metadata": {},
   "outputs": [],
   "source": [
    "class Args(argparse.Namespace):\n",
    "  main_dir = \"../data/plotting/brainplot/\" # loads coordinate and brain surface files\n",
    "  project = \"podcast\"\n",
    "  sid = [777] # subjects\n",
    "  keys = [\"comp\"] # comprehension and/or production\n",
    "  sig_elec_file = [\"../data/plotting/sig-elecs/podcast_160.csv\"]\n",
    "  brain_type = \"ave\" # average brain\n",
    "  hemisphere = \"left\" # only plot left hemisphere\n",
    "  outfile = \"../podcast.png\"\n",
    "\n",
    "# Aggregate Data & Get Effect\n",
    "args = Args()\n",
    "df = get_sigelec_df(args)\n",
    "df[\"effect\"] = df.subject.astype(int)\n",
    "df[\"electrode\"] = df.subject.astype(str) + \"_\" + df.electrode"
   ]
  },
  {
   "cell_type": "code",
   "execution_count": null,
   "metadata": {},
   "outputs": [],
   "source": [
    "# Customize Your Color list Here\n",
    "color_list = px.colors.qualitative.Prism # 10 colors\n",
    "\n",
    "# Set Up Color Split\n",
    "args.colors = color_list\n",
    "\n",
    "# Brain Map Plots\n",
    "fig = make_brainmap_cat(args, df, args.outfile) # plot png"
   ]
  },
  {
   "cell_type": "markdown",
   "metadata": {},
   "source": [
    "## Example 5 (247 Type)\n",
    "\n",
    "Here we are plotting the significant whisper electrodes colored by type. We will call the lower level function `plot_brainmap_cat` here."
   ]
  },
  {
   "cell_type": "code",
   "execution_count": null,
   "metadata": {},
   "outputs": [],
   "source": [
    "class Args(argparse.Namespace):\n",
    "  main_dir = \"../data/plotting/brainplot/\" # loads coordinate and brain surface files\n",
    "  project = \"tfs\"\n",
    "  sid = [625, 676, 7170, 798] # subjects\n",
    "  keys = [\"comp\",\"prod\"] # comprehension and/or production\n",
    "  sig_elec_file = [\"../data/plotting/sig-elecs/20230413-whisper-paper/tfs-sig-file-%(sid)s-whisper-ende-outer-%(key)s.csv\"]\n",
    "  brain_type = \"ave\" # average brain\n",
    "  hemisphere = \"left\" # only plot left hemisphere\n",
    "  outfile = \"../tfs_%s.png\"\n",
    "\n",
    "# Aggregate Data\n",
    "args = Args()\n",
    "df = get_sigelec_df(args)\n",
    "df.loc[df.subject == 7170, \"subject\"] = 717\n",
    "\n",
    "# Merge with Electrode Coordinate File\n",
    "subjects = df.subject.unique()\n",
    "df_coor = read_coor(args.main_dir, subjects)\n",
    "df = pd.merge(\n",
    "    df.loc[:, (\"subject\", \"electrode\", \"key\")],\n",
    "    df_coor,\n",
    "    how=\"left\",\n",
    "    left_on=[\"subject\", \"electrode\"],\n",
    "    right_on=[\"subject\", \"name\"],\n",
    ")\n",
    "df[\"effect\"] = df.type # set type as effect"
   ]
  },
  {
   "cell_type": "code",
   "execution_count": null,
   "metadata": {},
   "outputs": [],
   "source": [
    "# Customize Your Color list Here\n",
    "color_list = px.colors.qualitative.D3 # 10 colors\n",
    "\n",
    "# Set Up Color Split\n",
    "args.colors = color_list\n",
    "\n",
    "# Brain Map Plots\n",
    "for key in args.keys:\n",
    "    df_plot = df.loc[df.key == key, :]\n",
    "    fig = plot_brainmap_cat(args, df_plot, args.outfile % key) # plot png"
   ]
  }
 ],
 "metadata": {
  "kernelspec": {
   "display_name": "Python 3",
   "language": "python",
   "name": "python3"
  },
  "language_info": {
   "codemirror_mode": {
    "name": "ipython",
    "version": 3
   },
   "file_extension": ".py",
   "mimetype": "text/x-python",
   "name": "python",
   "nbconvert_exporter": "python",
   "pygments_lexer": "ipython3",
   "version": "3.10.4"
  },
  "orig_nbformat": 4
 },
 "nbformat": 4,
 "nbformat_minor": 2
}
